{
 "cells": [
  {
   "cell_type": "code",
   "execution_count": 2,
   "metadata": {},
   "outputs": [
    {
     "name": "stdout",
     "output_type": "stream",
     "text": [
      "------------------------------------------------------------\n",
      "              Welcome to Number Guessing Game               \n",
      "------------------------------------------------------------\n",
      "Guess a number between 1 to 10:4\n",
      "Your guess was too low \n",
      "Try again...\n",
      "Guess a number between 1 to 10:5\n",
      "Your guess was too low \n",
      "Try again...\n",
      "Guess a number between 1 to 10:6\n",
      "Your guess was too low \n",
      "Try again...\n",
      "Guess a number between 1 to 10:7\n",
      "Your guess was too low \n",
      "Try again...\n",
      "Guess a number between 1 to 10:9\n",
      "Your guess was too low \n",
      "Try again...\n",
      "You Lose\n"
     ]
    }
   ],
   "source": [
    "import random \n",
    "print('-'*60)\n",
    "print(\"Welcome to Number Guessing Game\".center(60))\n",
    "print('-'*60)\n",
    "secrete_num=random.randint(1,11)\n",
    "chances=0\n",
    "\n",
    "while chances<5:\n",
    "    number=int(input(\"Guess a number between 1 to 10:\"))\n",
    "    if secrete_num==number:\n",
    "        print(\"Your guess was correct\")\n",
    "        print(\"Congratulation!!!   You won the game \")\n",
    "        break\n",
    "    elif secrete_num<number:\n",
    "        print(\"Your guess was too high \")\n",
    "        print(\"Try again...\")\n",
    "    elif secrete_num>number:\n",
    "        print(\"Your guess was too low \")\n",
    "        print(\"Try again...\")\n",
    "        chances+=1\n",
    "if not chances<5:\n",
    "    print(\"You Lose\")"
   ]
  },
  {
   "cell_type": "markdown",
   "metadata": {},
   "source": []
  },
  {
   "cell_type": "code",
   "execution_count": null,
   "metadata": {},
   "outputs": [],
   "source": []
  },
  {
   "cell_type": "code",
   "execution_count": null,
   "metadata": {},
   "outputs": [],
   "source": []
  }
 ],
 "metadata": {
  "kernelspec": {
   "display_name": "Python 3",
   "language": "python",
   "name": "python3"
  },
  "language_info": {
   "codemirror_mode": {
    "name": "ipython",
    "version": 3
   },
   "file_extension": ".py",
   "mimetype": "text/x-python",
   "name": "python",
   "nbconvert_exporter": "python",
   "pygments_lexer": "ipython3",
   "version": "3.7.6"
  }
 },
 "nbformat": 4,
 "nbformat_minor": 4
}
